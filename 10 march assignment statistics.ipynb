{
 "cells": [
  {
   "cell_type": "markdown",
   "id": "4b8e3e9c-63ce-4570-a1c5-b17fb5f8e01d",
   "metadata": {},
   "source": [
    "Q1: What is Estimation Statistics? Explain point estimate and interval estimate."
   ]
  },
  {
   "cell_type": "markdown",
   "id": "c4420114-67e4-4ebe-873a-b684c2ad0ab1",
   "metadata": {},
   "source": [
    "Answer:\n",
    "Estimation statistics is a branch of statistics that involves using data from a sample to make inferences about the population. The goal of estimation is to provide information about population parameters, such as the mean or proportion, based on a sample of data.\n",
    "\n",
    "There are two main types of estimates: point estimates and interval estimates.\n",
    "\n",
    "Point Estimate: A point estimate is a single value that is used to estimate a population parameter. It is obtained by using a sample statistic, such as the sample mean or sample proportion, to estimate the corresponding population parameter.\n",
    "\n",
    "Interval Estimate: An interval estimate, also called a confidence interval, is a range of values that is likely to contain the true population parameter with a certain level of confidence. It is obtained by using a sample statistic, such as the sample mean or sample proportion, to calculate an interval of values that is likely to contain the true population parameter."
   ]
  },
  {
   "cell_type": "markdown",
   "id": "445cbd95-cd8c-436d-ba6e-01b623fec2c3",
   "metadata": {},
   "source": [
    "Q2. Write a Python function to estimate the population mean using a sample mean and standard\n",
    "deviation."
   ]
  },
  {
   "cell_type": "code",
   "execution_count": 1,
   "id": "0f317fbb-2845-4be4-ae60-196afc2cb862",
   "metadata": {},
   "outputs": [
    {
     "name": "stdout",
     "output_type": "stream",
     "text": [
      "Population mean: 2.0\n"
     ]
    }
   ],
   "source": [
    "import math\n",
    "\n",
    "def population_mean(sample_mean, sample_std, sample_size):\n",
    "    std_error = sample_std / math.sqrt(sample_size)\n",
    "    z_value = 1.96 # assume a 95% confidence level and use the corresponding z-value\n",
    "    margin_of_error = z_value * std_error \n",
    "    lower_bound = sample_mean - margin_of_error \n",
    "    upper_bound = sample_mean + margin_of_error \n",
    "    return ((lower_bound + upper_bound) / 2)\n",
    "result = population_mean(2,5,20000)\n",
    "\n",
    "print(f\"Population mean: {result}\")"
   ]
  },
  {
   "cell_type": "markdown",
   "id": "ccc976c7-c1af-481e-83bf-d08554d54b97",
   "metadata": {},
   "source": [
    "Q3: What is Hypothesis testing? Why is it used? State the importance of Hypothesis testing."
   ]
  },
  {
   "cell_type": "markdown",
   "id": "c38ff8b3-f3ee-4d2c-8340-e276aefa7ca5",
   "metadata": {},
   "source": [
    "Answer:\n",
    "Hypothesis testing is a statistical method used to make decisions or draw conclusions about a population based on a sample of data. It involves comparing a hypothesis or claim about a population parameter (such as a mean or proportion) with the data from a sample, in order to determine if the hypothesis is likely to be true.\n",
    "\n",
    "Hypothesis testing is used to test the validity of a theory or claim.\n",
    "\n",
    "For example, in medical research, hypothesis testing can be used to determine if a new drug is effective in treating a disease by comparing its effects to a placebo. In business, hypothesis testing can be used to evaluate whether a new marketing strategy is effective in increasing sales.\n",
    "\n",
    "The importance of hypothesis testing lies in its ability to provide evidence for or against a theory or claim, and to help researchers make informed decisions based on data. It allows researchers to determine if an observed difference between groups or variables is statistically significant or simply due to chance, and to quantify the level of uncertainty in their findings. This can help researchers to draw conclusions that are based on evidence and minimize the risk of drawing incorrect or unsupported conclusions."
   ]
  },
  {
   "cell_type": "markdown",
   "id": "2c728ca1-fd15-414a-8c5f-c373ac3fb9f3",
   "metadata": {},
   "source": [
    "Q4. Create a hypothesis that states whether the average weight of male college students is greater than\n",
    "the average weight of female college students."
   ]
  },
  {
   "cell_type": "markdown",
   "id": "2091a829-70fd-4f6b-903a-aa4bb663ebe4",
   "metadata": {},
   "source": [
    "Answer:\n",
    "The null hypothesis would be:\n",
    "\n",
    "H0: The average weight of male college students is not greater than the average weight of female college students.\n",
    "\n",
    "The alternative hypothesis would be:\n",
    "\n",
    "H1: The average weight of male college students is greater than the average weight of female college students."
   ]
  },
  {
   "cell_type": "markdown",
   "id": "42659d2a-e9a7-41fb-ad91-3b299fd76e38",
   "metadata": {},
   "source": [
    "Q5. Write a Python script to conduct a hypothesis test on the difference between two population means,\n",
    "given a sample from each population."
   ]
  },
  {
   "cell_type": "code",
   "execution_count": 2,
   "id": "7c4bff4c-5c87-48be-917f-1ea1fd931665",
   "metadata": {},
   "outputs": [
    {
     "name": "stdout",
     "output_type": "stream",
     "text": [
      "t-statistic:  -7.62050589435519\n",
      "p-value:  1.023598364778332e-12\n",
      "Reject null hypothesis\n"
     ]
    }
   ],
   "source": [
    "import numpy as np\n",
    "from scipy.stats import ttest_ind\n",
    "\n",
    "# create two random samples\n",
    "sample1 = np.random.normal(10, 2, 100)\n",
    "sample2 = np.random.normal(12, 2, 100)\n",
    "\n",
    "# conduct t-test\n",
    "t_stat, p_val = ttest_ind(sample1, sample2)\n",
    "\n",
    "# print results\n",
    "print(\"t-statistic: \", t_stat)\n",
    "print(\"p-value: \", p_val)\n",
    "\n",
    "# check if p-value is significant at 5% level\n",
    "if p_val < 0.05:\n",
    "    print(\"Reject null hypothesis\")\n",
    "else:\n",
    "    print(\"Fail to reject null hypothesis\")"
   ]
  },
  {
   "cell_type": "markdown",
   "id": "e611a241-3735-4809-a5f2-8e130c46d97e",
   "metadata": {},
   "source": [
    "Q6: What is a null and alternative hypothesis? Give some examples."
   ]
  },
  {
   "cell_type": "markdown",
   "id": "4f625330-48b2-442e-b7c7-6f8f118fb066",
   "metadata": {},
   "source": [
    "Answer:\n",
    "The null hypothesis (H0) states that there is no significant difference between two populations or variables. It is often the default or conventional position and is tested against the alternative hypothesis. In other words, it is the claim that researchers aim to reject or fail to reject based on the evidence from the data.\n",
    "\n",
    "The alternative hypothesis (H1) is the complement of the null hypothesis and states that there is a significant difference between two populations or variables. It represents the claim that researchers seek to support or prove based on the evidence from the data.\n",
    "\n",
    "Examples:\n",
    "\n",
    "Null hypothesis: The average IQ scores of two groups of students are equal.\n",
    "Alternative hypothesis: The average IQ score of one group of students is significantly different from the other group.\n",
    "\n",
    "Null hypothesis: The new drug has no effect on curing a disease.\n",
    "Alternative hypothesis: The new drug is significantly more effective in curing the disease than the current drug."
   ]
  },
  {
   "cell_type": "markdown",
   "id": "8b51847e-a0ea-4b74-8ae2-c0173fa104ed",
   "metadata": {},
   "source": [
    "Q7: Write down the steps involved in hypothesis testing."
   ]
  },
  {
   "cell_type": "markdown",
   "id": "b56866a3-3706-43c1-8f42-67fd367be919",
   "metadata": {},
   "source": [
    "Answer:\n",
    "The general steps involved in hypothesis testing are:\n",
    "\n",
    "State the null and alternative hypotheses: Identify the research question and define the null and alternative hypotheses that represent the possible outcomes.\n",
    "Determine the test statistic: Choose an appropriate statistical test (e.g., t-test, ANOVA, chi-square) based on the research question and data type, and calculate the test statistic using the sample data.\n",
    "Set the significance level: Determine the level of significance (alpha) to use for the test. This is the probability of rejecting the null hypothesis when it is true and is typically set at 0.05.\n",
    "Calculate the p-value: Calculate the probability of observing the test statistic or a more extreme value under the null hypothesis.\n",
    "Make a decision: Compare the p-value to the significance level and make a decision whether to reject or fail to reject the null hypothesis. If the p-value is less than or equal to the significance level, reject the null hypothesis; otherwise, fail to reject the null hypothesis."
   ]
  },
  {
   "cell_type": "markdown",
   "id": "8ae71360-c3a7-4af5-999a-9bd1f0324bf9",
   "metadata": {},
   "source": [
    "Q8. Define p-value and explain its significance in hypothesis testing."
   ]
  },
  {
   "cell_type": "markdown",
   "id": "42d3d181-7071-4e18-80eb-27f714cdc19b",
   "metadata": {},
   "source": [
    "Answer:\n",
    "The p-value in hypothesis testing is the probability of observing a test statistic or a more extreme value, given that the null hypothesis is true. In other words, it is the probability of obtaining the observed data or more extreme data if the null hypothesis is true.\n",
    "The p-value provides a measure of the strength of evidence against the null hypothesis. A small p-value indicates strong evidence against the null hypothesis, while a large p-value indicates weak evidence against the null hypothesis.\n",
    "\n",
    "The p-value is a key component of hypothesis testing because it helps researchers make decisions about the null hypothesis. If the p-value is small (e.g., less than or equal to the significance level), it suggests that the observed data is unlikely to have occurred by chance under the null hypothesis, and the null hypothesis is rejected. If the p-value is large (e.g., greater than the significance level), it suggests that the observed data is consistent with the null hypothesis, and the null hypothesis is not rejected."
   ]
  },
  {
   "cell_type": "markdown",
   "id": "03a6fcca-d421-4987-8ac4-478e83db0f3a",
   "metadata": {},
   "source": [
    "Q9. Generate a Student's t-distribution plot using Python's matplotlib library, with the degrees of freedom\n",
    "parameter set to 10."
   ]
  },
  {
   "cell_type": "code",
   "execution_count": 3,
   "id": "8c5cb1c9-73ed-46fa-aba5-ffdf9efcfd89",
   "metadata": {},
   "outputs": [
    {
     "data": {
      "text/plain": [
       "(array([0.0011627 , 0.0023254 , 0.00406946, 0.01472756, 0.02519188,\n",
       "        0.06356105, 0.13371075, 0.24281098, 0.34609769, 0.37845957,\n",
       "        0.31954932, 0.20172883, 0.10890644, 0.05716619, 0.02306026,\n",
       "        0.0083327 , 0.00348811, 0.0023254 , 0.00058135, 0.00058135]),\n",
       " array([-4.84168515, -4.32564588, -3.80960661, -3.29356733, -2.77752806,\n",
       "        -2.26148879, -1.74544951, -1.22941024, -0.71337097, -0.1973317 ,\n",
       "         0.31870758,  0.83474685,  1.35078612,  1.8668254 ,  2.38286467,\n",
       "         2.89890394,  3.41494322,  3.93098249,  4.44702176,  4.96306104,\n",
       "         5.47910031]),\n",
       " <BarContainer object of 20 artists>)"
      ]
     },
     "execution_count": 3,
     "metadata": {},
     "output_type": "execute_result"
    },
    {
     "data": {
      "image/png": "[encoded data removed]",
      "text/plain": [
       "<Figure size 640x480 with 1 Axes>"
      ]
     },
     "metadata": {},
     "output_type": "display_data"
    }
   ],
   "source": [
    "from scipy.stats import t\n",
    "import matplotlib.pyplot as plt\n",
    "\n",
    "#generate t distribution with sample size 10000\n",
    "x = t.rvs(df=10, size=10000)\n",
    "\n",
    "plt.hist(x, density=True, edgecolor='black', bins=20)"
   ]
  },
  {
   "cell_type": "markdown",
   "id": "b9e82955-beeb-4ce3-a814-af10b7ac9d47",
   "metadata": {},
   "source": [
    "Q10. Write a Python program to calculate the two-sample t-test for independent samples, given two\n",
    "random samples of equal size and a null hypothesis that the population means are equal."
   ]
  },
  {
   "cell_type": "code",
   "execution_count": 5,
   "id": "e3e4d8a7-779d-4253-a1bd-a1140a0538a7",
   "metadata": {},
   "outputs": [
    {
     "name": "stdout",
     "output_type": "stream",
     "text": [
      "t-test statistic: -6.782432641069352\n",
      "p-value: 1.331958582891469e-10\n",
      "Reject the null hypothesis\n"
     ]
    }
   ],
   "source": [
    "import numpy as np\n",
    "from scipy.stats import ttest_ind\n",
    "\n",
    "sample1 = np.random.normal(10, 2, 100)\n",
    "sample2 = np.random.normal(12, 2, 100)\n",
    "\n",
    "#calculate the t-test statistic and p-value\n",
    "t_statistic, p_value = ttest_ind(sample1, sample2)\n",
    "\n",
    "print(\"t-test statistic:\", t_statistic)\n",
    "print(\"p-value:\", p_value)\n",
    "\n",
    "#compare the p-value to the significance level\n",
    "alpha = 0.05\n",
    "if p_value < alpha:\n",
    "    print(\"Reject the null hypothesis\")\n",
    "else:\n",
    "    print(\"Fail to reject the null hypothesis\")"
   ]
  },
  {
   "cell_type": "markdown",
   "id": "f5d604c8-1e11-486d-b473-a47bd6cecd7a",
   "metadata": {},
   "source": [
    "Q11: What is Student’s t distribution? When to use the t-Distribution."
   ]
  },
  {
   "cell_type": "markdown",
   "id": "37a55ca3-6dad-4736-8cbb-0e9cf326916d",
   "metadata": {},
   "source": [
    "Answer:\n",
    "Student's t distribution is a probability distribution that is used in hypothesis testing when the sample size is small and the population standard deviation is unknown.\n",
    "It is similar to the standard normal distribution (z-distribution), but has heavier tails, which means it has more probability in the tails and less in the center compared to the standard normal distribution. The shape of the t-distribution depends on the sample size, with smaller sample sizes resulting in a more spread-out distribution.\n",
    "\n",
    "3The t-distribution is used in situations where the population standard deviation is unknown and must be estimated from the sample data.\n",
    "It is also used when the sample size is small (typically less than 30) and the population is normally distributed. The t-distribution allows for greater uncertainty in the estimate of the population standard deviation due to the smaller sample size."
   ]
  },
  {
   "cell_type": "markdown",
   "id": "a12fd0b5-321a-4359-9f76-8875b3bc61bf",
   "metadata": {},
   "source": [
    "Q12: What is t-statistic? State the formula for t-statistic."
   ]
  },
  {
   "cell_type": "markdown",
   "id": "0276cc44-1a5f-46bf-b036-9e7ef8f131e2",
   "metadata": {},
   "source": [
    "Answer:\n",
    "The t-statistic is a measure of how many standard errors the sample mean is from the hypothesized population mean, under the assumption that the population variance is unknown and must be estimated from the sample data. It is used in hypothesis testing to determine whether the difference between the sample mean and the hypothesized population mean is statistically significant.\n",
    "\n",
    "The formula for the t-statistic is:\n",
    "t = (x̄ - μ) / (s / √n)\n",
    "\n",
    "where:\n",
    "x̄ is the sample mean\n",
    "μ is the hypothesized population mean\n",
    "s is the sample standard deviation\n",
    "n is the sample size\n",
    "√n is the square root of the sample size"
   ]
  },
  {
   "cell_type": "markdown",
   "id": "b958ccd9-4329-4d80-b0ea-0399455cf33b",
   "metadata": {},
   "source": [
    "Q13. A coffee shop owner wants to estimate the average daily revenue for their shop. They take a random\n",
    "sample of 50 days and find the sample mean revenue to be $500 with a standard deviation of $50.\n",
    "Estimate the population mean revenue with a 95% confidence interval."
   ]
  },
  {
   "cell_type": "markdown",
   "id": "5a75cdfb-1e9b-4a78-9fc2-a66a8ee155e5",
   "metadata": {},
   "source": [
    "Answer:\n",
    "To estimate the population mean revenue with a 95% confidence interval, we can use the following formula:\n",
    "\n",
    "Confidence Interval = sample mean ± margin of error\n",
    "\n",
    "where the margin of error is given by:\n",
    "\n",
    "Margin of Error = critical value * standard error\n",
    "\n",
    "The standard error is the standard deviation of the sample divided by the square root of the sample size:\n",
    "\n",
    "Standard Error = standard deviation / sqrt(sample size)\n",
    "\n",
    "Substituting the values given in the problem statement, we get:\n",
    "\n",
    "Standard Error = 50 / sqrt(50) = 7.07\n",
    "Margin of Error = 1.96 * 7.07 = 13.85\n",
    "\n",
    "Therefore, the 95% confidence interval for the population mean revenue is:\n",
    "\n",
    "500 ± 13.85, or (486.15, 513.85)\n",
    "\n",
    "We can be 95% confident that the true population mean revenue falls within this interval."
   ]
  },
  {
   "cell_type": "markdown",
   "id": "f9aefcdc-a955-47e4-a500-ca4a900bb9ff",
   "metadata": {},
   "source": [
    "Q14. A researcher hypothesizes that a new drug will decrease blood pressure by 10 mmHg. They conduct a\n",
    "clinical trial with 100 patients and find that the sample mean decrease in blood pressure is 8 mmHg with a\n",
    "standard deviation of 3 mmHg. Test the hypothesis with a significance level of 0.05."
   ]
  },
  {
   "attachments": {
    "6935d253-bdd2-4153-ab05-995c89af3c81.png": {
     "image/png": "[encoded data removed]"
    }
   },
   "cell_type": "markdown",
   "id": "ffbacab5-1568-4a63-8889-897fcbff786a",
   "metadata": {},
   "source": [
    "Answer:\n",
    "The following values are given in the question:\n",
    "\n",
    "Population Mean = 10\n",
    "Sample Size = n = 100\n",
    "Sample Mean = 8\n",
    "Standard Deviation = 3\n",
    "Significance Level = 0.05\n",
    "Confidence Interval = 0.95\n",
    "\n",
    "My null and alternate hypothesis are as follows:\n",
    "\n",
    "Null Hypothesis = H0 => Population Mean = 10\n",
    "Alternate Hypothesis = H1 => Population Mean != 10\n",
    "\n",
    "From utilizing z-table i obgtained values for z-score:\n",
    "\n",
    "z-score = ± 1.96\n",
    "\n",
    "Then I utilized the follwing z-test formula:\n",
    "\n",
    "![download.png](attachment:6935d253-bdd2-4153-ab05-995c89af3c81.png) \n",
    "I got the following value:\n",
    "\n",
    "-0.66\n",
    "\n",
    "As -0.66 lies outside the region ± 1.96, that means it lies in the rejection region.\n",
    "So my final conclusion was:\n",
    "\n",
    "Reject the null hypothesis"
   ]
  },
  {
   "cell_type": "markdown",
   "id": "c925ca74-cb1a-4bcc-9ff1-ce2dd27d249a",
   "metadata": {},
   "source": [
    "Q15. An electronics company produces a certain type of product with a mean weight of 5 pounds and a\n",
    "standard deviation of 0.5 pounds. A random sample of 25 products is taken, and the sample mean weight\n",
    "is found to be 4.8 pounds. Test the hypothesis that the true mean weight of the products is less than 5\n",
    "pounds with a significance level of 0.01."
   ]
  },
  {
   "attachments": {
    "fc9e021c-ff1a-492b-9ff0-afeef5563b97.png": {
     "image/png": "[encoded data removed]"
    }
   },
   "cell_type": "markdown",
   "id": "1f32c22d-ccec-49a2-9e70-1d2bb2dd2fb3",
   "metadata": {},
   "source": [
    "Answer:\n",
    "The following values are given in the question:\n",
    "\n",
    "Population Mean = 5\n",
    "Sample Size = n = 25\n",
    "Sample Mean = 4.8\n",
    "Standard Deviation = 0.5\n",
    "Significance Level = 0.01\n",
    "Confidence Interval = 0.99\n",
    "\n",
    "My null and alternate hypothesis are as follows:\n",
    "\n",
    "Null Hypothesis = H0 => Population Mean = 5\n",
    "Alternate Hypothesis = H1 => Population Mean < 5\n",
    "\n",
    "Then I utilized the follwing z-test formula:\n",
    "\n",
    "![download.png](attachment:fc9e021c-ff1a-492b-9ff0-afeef5563b97.png)\n",
    "\n",
    "I got the following value:\n",
    "\n",
    "-2\n",
    "\n",
    "From utilizing z-table i obgtained values for z-score of -2:\n",
    "\n",
    "z-score = 0.02275\n",
    "\n",
    "Which also becomes my p-value:\n",
    "\n",
    "p-value = 0.02275\n",
    "\n",
    "Then i checked whether p-value < significance value\n",
    "\n",
    "0.02775 < 0.01\n",
    "False\n",
    "\n",
    "So my final conclusion was:\n",
    "\n",
    "Failed to reject null hypothesis"
   ]
  },
  {
   "cell_type": "markdown",
   "id": "51ccbeca-5bba-4d65-be30-155b7bb2542c",
   "metadata": {},
   "source": [
    "Q16. Two groups of students are given different study materials to prepare for a test. The first group (n1 =\n",
    "30) has a mean score of 80 with a standard deviation of 10, and the second group (n2 = 40) has a mean\n",
    "score of 75 with a standard deviation of 8. Test the hypothesis that the population means for the two\n",
    "groups are equal with a significance level of 0.01."
   ]
  },
  {
   "attachments": {
    "20380781-184b-4907-9fd8-0cdf63b4e987.png": {
     "image/png": "[encoded data removed]"
    }
   },
   "cell_type": "markdown",
   "id": "95f7e59c-8f2c-4bf6-b9f6-38bd21aa9f2c",
   "metadata": {},
   "source": [
    "Answer:\n",
    "My null and alternate hypothesis are as follows:\n",
    "\n",
    "Null Hypothesis = H0 => Population Mean of Group 1 = Population Mean of Group 2\n",
    "Alternate Hypothesis = H1 => Population Mean of Group 1 != Population Mean of Group 2\n",
    "\n",
    "Then I utilized the follwing two sample T-test formula:\n",
    "\n",
    "    \n",
    "![download (1).png](attachment:20380781-184b-4907-9fd8-0cdf63b4e987.png)\n",
    "\n",
    "I got the value of t as:\n",
    "\n",
    "t = 2.37\n",
    "\n",
    "Then I utilized t-table to look for the value of t for the following parameters:\n",
    "\n",
    "Degrees of Freedom = 68\n",
    "Significance Value = 0.01\n",
    "\n",
    "I got the following value of t fromt the table:\n",
    "\n",
    "t = ± 2.638\n",
    "\n",
    "Since 2.37 lies in the region ±2.638 so, the final conclusion was:\n",
    "\n",
    "Failed to reject null hypothesis\n",
    "Population mean for two groups are equal"
   ]
  },
  {
   "cell_type": "markdown",
   "id": "594752d5-ff4e-4389-a43a-20346e11a08a",
   "metadata": {},
   "source": [
    "Q17. A marketing company wants to estimate the average number of ads watched by viewers during a TV\n",
    "program. They take a random sample of 50 viewers and find that the sample mean is 4 with a standard\n",
    "deviation of 1.5. Estimate the population mean with a 99% confidence interval."
   ]
  },
  {
   "cell_type": "markdown",
   "id": "3f0626cf-9cc8-4c9d-b6e4-7c96fd1960bb",
   "metadata": {},
   "source": [
    "Answer:\n",
    "To estimate the population mean with a 99% confidence interval, we can use the following formula:\n",
    "\n",
    "CI = X̄ ± z*(σ/√n)\n",
    "\n",
    "Where:\n",
    "\n",
    "X̄ = sample mean (4)\n",
    "z = z-score corresponding to the confidence level (99%)\n",
    "σ = population standard deviation (1.5)\n",
    "n = sample size (50)\n",
    "\n",
    "To find the z-score, we can use a standard normal distribution table. For a 99% confidence level, the z-score is\n",
    "\n",
    "z-score = 2.576.\n",
    "\n",
    "Plugging in the values, we get:\n",
    "\n",
    "CI = 4 ± 2.576*(1.5/√50)\n",
    "CI = 4 ± 0.665\n",
    "\n",
    "Therefore, the 99% confidence interval for the population mean of the number of ads watched by viewers during a TV program is (3.335, 4.665). We are 99% confident that the true population mean falls within this interval."
   ]
  },
  {
   "cell_type": "code",
   "execution_count": null,
   "id": "37de5c30-e4c6-4dbd-a1ee-2d6241ff6faf",
   "metadata": {},
   "outputs": [],
   "source": []
  }
 ],
 "metadata": {
  "kernelspec": {
   "display_name": "Python 3 (ipykernel)",
   "language": "python",
   "name": "python3"
  },
  "language_info": {
   "codemirror_mode": {
    "name": "ipython",
    "version": 3
   },
   "file_extension": ".py",
   "mimetype": "text/x-python",
   "name": "python",
   "nbconvert_exporter": "python",
   "pygments_lexer": "ipython3",
   "version": "3.10.8"
  }
 },
 "nbformat": 4,
 "nbformat_minor": 5
}
